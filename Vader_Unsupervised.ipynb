{
  "nbformat": 4,
  "nbformat_minor": 0,
  "metadata": {
    "colab": {
      "provenance": [],
      "authorship_tag": "ABX9TyNGk4LM/vmhexkayBsegG8s",
      "include_colab_link": true
    },
    "kernelspec": {
      "name": "python3",
      "display_name": "Python 3"
    },
    "language_info": {
      "name": "python"
    }
  },
  "cells": [
    {
      "cell_type": "markdown",
      "metadata": {
        "id": "view-in-github",
        "colab_type": "text"
      },
      "source": [
        "<a href=\"https://colab.research.google.com/github/Shrutakeerti/Twitter-Post-Sentiment-Analysis/blob/main/Vader_Unsupervised.ipynb\" target=\"_parent\"><img src=\"https://colab.research.google.com/assets/colab-badge.svg\" alt=\"Open In Colab\"/></a>"
      ]
    },
    {
      "cell_type": "code",
      "execution_count": 14,
      "metadata": {
        "colab": {
          "base_uri": "https://localhost:8080/"
        },
        "id": "FAMQUOsRTter",
        "outputId": "2416b136-2ed1-4ea3-fb4e-e6ff610d89c5"
      },
      "outputs": [
        {
          "output_type": "stream",
          "name": "stdout",
          "text": [
            "Requirement already satisfied: vaderSentiment in /usr/local/lib/python3.10/dist-packages (3.3.2)\n",
            "Requirement already satisfied: requests in /usr/local/lib/python3.10/dist-packages (from vaderSentiment) (2.31.0)\n",
            "Requirement already satisfied: charset-normalizer<4,>=2 in /usr/local/lib/python3.10/dist-packages (from requests->vaderSentiment) (3.3.2)\n",
            "Requirement already satisfied: idna<4,>=2.5 in /usr/local/lib/python3.10/dist-packages (from requests->vaderSentiment) (3.7)\n",
            "Requirement already satisfied: urllib3<3,>=1.21.1 in /usr/local/lib/python3.10/dist-packages (from requests->vaderSentiment) (2.0.7)\n",
            "Requirement already satisfied: certifi>=2017.4.17 in /usr/local/lib/python3.10/dist-packages (from requests->vaderSentiment) (2024.6.2)\n"
          ]
        }
      ],
      "source": [
        "! pip install vaderSentiment"
      ]
    },
    {
      "cell_type": "code",
      "source": [
        "import pandas as pd"
      ],
      "metadata": {
        "id": "-EeY9lIVWcpo"
      },
      "execution_count": 15,
      "outputs": []
    },
    {
      "cell_type": "code",
      "source": [
        "from vaderSentiment.vaderSentiment import SentimentIntensityAnalyzer\n",
        "analyser= SentimentIntensityAnalyzer()"
      ],
      "metadata": {
        "id": "4_4VxkM9Rh5t"
      },
      "execution_count": 16,
      "outputs": []
    },
    {
      "cell_type": "code",
      "source": [
        "def sentiment_analyzer_scores(sentence):\n",
        "    score= analyser.polarity_scores(sentence)\n",
        "    print(\"{:-<40}{}\".format(sentence, str(score)))\n",
        ""
      ],
      "metadata": {
        "id": "xSLZhAvjm3Jh"
      },
      "execution_count": 17,
      "outputs": []
    },
    {
      "cell_type": "code",
      "source": [
        "sentiment_analyzer_scores(\"I am very happy today\")"
      ],
      "metadata": {
        "colab": {
          "base_uri": "https://localhost:8080/"
        },
        "id": "Pil-yLQonQOU",
        "outputId": "d905d852-f998-4413-9dfa-b6c94d18493b"
      },
      "execution_count": 18,
      "outputs": [
        {
          "output_type": "stream",
          "name": "stdout",
          "text": [
            "I am very happy today-------------------{'neg': 0.0, 'neu': 0.5, 'pos': 0.5, 'compound': 0.6115}\n"
          ]
        }
      ]
    },
    {
      "cell_type": "code",
      "source": [
        "#effect of punctuations !!\n",
        "sentiment_analyzer_scores(\"Today is super cool!\")\n",
        "sentiment_analyzer_scores(\"Today is super cool!!\")\n",
        "sentiment_analyzer_scores(\"Today is super cool!!!\")\n"
      ],
      "metadata": {
        "colab": {
          "base_uri": "https://localhost:8080/"
        },
        "id": "YMFhLz75nWiW",
        "outputId": "0739bb3f-c6e7-43e8-f854-c81c222c7b16"
      },
      "execution_count": 19,
      "outputs": [
        {
          "output_type": "stream",
          "name": "stdout",
          "text": [
            "Today is super cool!--------------------{'neg': 0.0, 'neu': 0.236, 'pos': 0.764, 'compound': 0.7574}\n",
            "Today is super cool!!-------------------{'neg': 0.0, 'neu': 0.228, 'pos': 0.772, 'compound': 0.7772}\n",
            "Today is super cool!!!------------------{'neg': 0.0, 'neu': 0.22, 'pos': 0.78, 'compound': 0.795}\n"
          ]
        }
      ]
    },
    {
      "cell_type": "code",
      "source": [
        "#effect of capitalisations\n",
        "sentiment_analyzer_scores(\"Today is super cool!\")\n",
        "sentiment_analyzer_scores(\"Today is super COOL!\")\n"
      ],
      "metadata": {
        "colab": {
          "base_uri": "https://localhost:8080/"
        },
        "id": "QWFb87tEoEj2",
        "outputId": "e6b2c1eb-bd2e-4a29-f19a-37beec6ff725"
      },
      "execution_count": 20,
      "outputs": [
        {
          "output_type": "stream",
          "name": "stdout",
          "text": [
            "Today is super cool!--------------------{'neg': 0.0, 'neu': 0.236, 'pos': 0.764, 'compound': 0.7574}\n",
            "Today is super COOL!--------------------{'neg': 0.0, 'neu': 0.217, 'pos': 0.783, 'compound': 0.8034}\n"
          ]
        }
      ]
    },
    {
      "cell_type": "code",
      "source": [
        "#Effect of modifiers\n",
        "sentiment_analyzer_scores(\"This thing is extremely good\")\n",
        "sentiment_analyzer_scores(\"This thing is moderately bad\")\n",
        "sentiment_analyzer_scores(\"This thing is good\")\n"
      ],
      "metadata": {
        "colab": {
          "base_uri": "https://localhost:8080/"
        },
        "id": "6MDPCIHQore-",
        "outputId": "fc57c952-06d5-49ca-d231-7861bfb60a8f"
      },
      "execution_count": 21,
      "outputs": [
        {
          "output_type": "stream",
          "name": "stdout",
          "text": [
            "This thing is extremely good------------{'neg': 0.0, 'neu': 0.556, 'pos': 0.444, 'compound': 0.4927}\n",
            "This thing is moderately bad------------{'neg': 0.467, 'neu': 0.533, 'pos': 0.0, 'compound': -0.5423}\n",
            "This thing is good----------------------{'neg': 0.0, 'neu': 0.508, 'pos': 0.492, 'compound': 0.4404}\n"
          ]
        }
      ]
    },
    {
      "cell_type": "code",
      "source": [
        "#Effect of conjunctives\n",
        "sentiment_analyzer_scores(\"I love this movie but I liked that one more\")\n",
        "sentiment_analyzer_scores(\"I hate this movie but I liked that one more\")\n",
        "sentiment_analyzer_scores(\"I love this movie and I hate that one more\")"
      ],
      "metadata": {
        "colab": {
          "base_uri": "https://localhost:8080/"
        },
        "id": "N70rQpvzrNa9",
        "outputId": "0a83cbe1-61f8-4796-aca2-92aaf8bf34b5"
      },
      "execution_count": 22,
      "outputs": [
        {
          "output_type": "stream",
          "name": "stdout",
          "text": [
            "I love this movie but I liked that one more{'neg': 0.0, 'neu': 0.559, 'pos': 0.441, 'compound': 0.743}\n",
            "I hate this movie but I liked that one more{'neg': 0.167, 'neu': 0.569, 'pos': 0.263, 'compound': 0.3291}\n",
            "I love this movie and I hate that one more{'neg': 0.233, 'neu': 0.503, 'pos': 0.264, 'compound': 0.128}\n"
          ]
        }
      ]
    },
    {
      "cell_type": "code",
      "source": [
        "#Effect of preceding tri-grams\n",
        "sentiment_analyzer_scores(\"The food here isn't really all that great\")\n",
        "sentiment_analyzer_scores(\"The food here is really good\")\n",
        "sentiment_analyzer_scores(\"The food here is not really all that great\")\n",
        "sentiment_analyzer_scores(\"The food here is not that great\")"
      ],
      "metadata": {
        "colab": {
          "base_uri": "https://localhost:8080/"
        },
        "id": "cDsWoUR9rdXd",
        "outputId": "c2c13d2d-b21c-4f9d-c35d-134882691d68"
      },
      "execution_count": 23,
      "outputs": [
        {
          "output_type": "stream",
          "name": "stdout",
          "text": [
            "The food here isn't really all that great{'neg': 0.0, 'neu': 0.616, 'pos': 0.384, 'compound': 0.6557}\n",
            "The food here is really good------------{'neg': 0.0, 'neu': 0.61, 'pos': 0.39, 'compound': 0.4927}\n",
            "The food here is not really all that great{'neg': 0.0, 'neu': 0.647, 'pos': 0.353, 'compound': 0.6557}\n",
            "The food here is not that great---------{'neg': 0.354, 'neu': 0.646, 'pos': 0.0, 'compound': -0.5096}\n"
          ]
        }
      ]
    },
    {
      "cell_type": "code",
      "source": [
        "#effect of emojis\n",
        "print(sentiment_analyzer_scores(\"I am very  🌞 today\"))\n",
        "print(sentiment_analyzer_scores(\"I am very  😭 today\"))\n",
        "print(sentiment_analyzer_scores(\"I am very  😊 today\"))\n",
        "print(sentiment_analyzer_scores(\"I am very  😂 today\"))\n",
        "print(sentiment_analyzer_scores(\"I am very  😍 today\"))\n",
        "print(sentiment_analyzer_scores(\"I am very  😡 today\"))\n",
        "print(sentiment_analyzer_scores(\"I am very  😤 today\"))\n",
        "print(sentiment_analyzer_scores(\"I am very  😢 today\"))\n",
        "print(sentiment_analyzer_scores(\"I am very  😞 today\"))\n",
        "print(sentiment_analyzer_scores(\"I am very  😠 today\"))\n",
        "print(sentiment_analyzer_scores(\"I am very  🤯 today\"))"
      ],
      "metadata": {
        "colab": {
          "base_uri": "https://localhost:8080/"
        },
        "id": "AQYxACkuBAxM",
        "outputId": "75de515c-1030-4d4c-d63c-131d0a55ec16"
      },
      "execution_count": 24,
      "outputs": [
        {
          "output_type": "stream",
          "name": "stdout",
          "text": [
            "I am very  🌞 today----------------------{'neg': 0.0, 'neu': 1.0, 'pos': 0.0, 'compound': 0.0}\n",
            "None\n",
            "I am very  😭 today----------------------{'neg': 0.36, 'neu': 0.64, 'pos': 0.0, 'compound': -0.5233}\n",
            "None\n",
            "I am very  😊 today----------------------{'neg': 0.0, 'neu': 0.527, 'pos': 0.473, 'compound': 0.7425}\n",
            "None\n",
            "I am very  😂 today----------------------{'neg': 0.167, 'neu': 0.54, 'pos': 0.293, 'compound': 0.3892}\n",
            "None\n",
            "I am very  😍 today----------------------{'neg': 0.0, 'neu': 0.68, 'pos': 0.32, 'compound': 0.5095}\n",
            "None\n",
            "I am very  😡 today----------------------{'neg': 0.0, 'neu': 1.0, 'pos': 0.0, 'compound': 0.0}\n",
            "None\n",
            "I am very  😤 today----------------------{'neg': 0.0, 'neu': 1.0, 'pos': 0.0, 'compound': 0.0}\n",
            "None\n",
            "I am very  😢 today----------------------{'neg': 0.404, 'neu': 0.596, 'pos': 0.0, 'compound': -0.5256}\n",
            "None\n",
            "I am very  😞 today----------------------{'neg': 0.404, 'neu': 0.596, 'pos': 0.0, 'compound': -0.5256}\n",
            "None\n",
            "I am very  😠 today----------------------{'neg': 0.418, 'neu': 0.582, 'pos': 0.0, 'compound': -0.5563}\n",
            "None\n",
            "I am very  🤯 today----------------------{'neg': 0.0, 'neu': 1.0, 'pos': 0.0, 'compound': 0.0}\n",
            "None\n"
          ]
        }
      ]
    },
    {
      "cell_type": "code",
      "source": [
        "#effect of slangs\n",
        "sentiment_analyzer_scores(\"Just shut up Bitch!\")\n",
        "sentiment_analyzer_scores(\"Just bring out the shit out of you\")\n",
        "sentiment_analyzer_scores(\"Dont get fucked up\")"
      ],
      "metadata": {
        "colab": {
          "base_uri": "https://localhost:8080/"
        },
        "id": "quhHyo7mBten",
        "outputId": "dd657e18-e608-4d0b-b72a-a6b9b5a6c760"
      },
      "execution_count": 25,
      "outputs": [
        {
          "output_type": "stream",
          "name": "stdout",
          "text": [
            "Just shut up Bitch!---------------------{'neg': 0.577, 'neu': 0.423, 'pos': 0.0, 'compound': -0.6239}\n",
            "Just bring out the shit out of you------{'neg': 0.0, 'neu': 0.636, 'pos': 0.364, 'compound': 0.6124}\n",
            "Dont get fucked up----------------------{'neg': 0.0, 'neu': 0.46, 'pos': 0.54, 'compound': 0.5448}\n"
          ]
        }
      ]
    },
    {
      "cell_type": "code",
      "source": [
        "#effect of emoticons\n",
        "sentiment_analyzer_scores(\"Make sure you are (๑>◡<๑) today\")\n",
        "sentiment_analyzer_scores(\"Dont be (╥﹏╥) today bro\")"
      ],
      "metadata": {
        "colab": {
          "base_uri": "https://localhost:8080/"
        },
        "id": "pWh6XvbJDLhR",
        "outputId": "5e500652-2857-4870-db26-8e1cf00b4a32"
      },
      "execution_count": 26,
      "outputs": [
        {
          "output_type": "stream",
          "name": "stdout",
          "text": [
            "Make sure you are (๑>◡<๑) today---------{'neg': 0.0, 'neu': 0.685, 'pos': 0.315, 'compound': 0.3182}\n",
            "Dont be (╥﹏╥) today bro-----------------{'neg': 0.0, 'neu': 1.0, 'pos': 0.0, 'compound': 0.0}\n"
          ]
        }
      ]
    },
    {
      "cell_type": "code",
      "source": [
        "scores=[]\n",
        "sentences=['A really bad music to listen,worst to hear','I hate this music!!!  ٩(^ᗜ^ )و ´-','I love this music!!!  ٩(^ᗜ^ )و ´-']\n",
        "\n",
        "for sentence in sentences:\n",
        "  score=analyser.polarity_scores(sentence)\n",
        "  scores.append(score)\n",
        "\n",
        "#converting list\n",
        "dataFrame= pd.DataFrame(scores)\n",
        "\n",
        "print(dataFrame)\n",
        "\n",
        "print(\"Overall Sentiment Score for this multiple sentences     ๑>◡<๑\", dataFrame.mean())\n",
        "\n",
        ""
      ],
      "metadata": {
        "colab": {
          "base_uri": "https://localhost:8080/"
        },
        "id": "v5EJgo1EEk3L",
        "outputId": "846a39c5-8ae4-48d3-ab75-a2766b755bc2"
      },
      "execution_count": 28,
      "outputs": [
        {
          "output_type": "stream",
          "name": "stdout",
          "text": [
            "     neg    neu    pos  compound\n",
            "0  0.351  0.649  0.000   -0.5849\n",
            "1  0.433  0.567  0.000   -0.6784\n",
            "2  0.000  0.542  0.458    0.7249\n",
            "Overall Sentiment Score for this multiple sentences     ๑>◡<๑ neg         0.261333\n",
            "neu         0.586000\n",
            "pos         0.152667\n",
            "compound   -0.179467\n",
            "dtype: float64\n"
          ]
        }
      ]
    },
    {
      "cell_type": "code",
      "source": [],
      "metadata": {
        "id": "jTZ429YZS7DS"
      },
      "execution_count": null,
      "outputs": []
    }
  ]
}